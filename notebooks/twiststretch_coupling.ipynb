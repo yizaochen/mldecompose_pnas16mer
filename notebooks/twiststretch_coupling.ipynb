{
 "cells": [
  {
   "cell_type": "code",
   "execution_count": 1,
   "metadata": {},
   "outputs": [],
   "source": [
    "from os import path\n",
    "import matplotlib.pyplot as plt\n",
    "from mldecompose.molecular_inter import MolecularInteraction\n",
    "from mldecompose import plot_util\n",
    "rootfolder = '/home/yizaochen/codes/dna_rna/mldecompose_pnas16mer'"
   ]
  },
  {
   "cell_type": "markdown",
   "metadata": {},
   "source": [
    "### Part 1: Read DataFrame"
   ]
  },
  {
   "cell_type": "code",
   "execution_count": 2,
   "metadata": {},
   "outputs": [],
   "source": [
    "ml_arr = MolecularInteraction(rootfolder, 'arna+arna')\n",
    "df_arr = ml_arr.read_df()\n",
    "ml_bdd = MolecularInteraction(rootfolder, 'bdna+bdna')\n",
    "df_bdd = ml_bdd.read_df()"
   ]
  },
  {
   "cell_type": "code",
   "execution_count": 3,
   "metadata": {},
   "outputs": [
    {
     "data": {
      "text/html": [
       "<div>\n",
       "<style scoped>\n",
       "    .dataframe tbody tr th:only-of-type {\n",
       "        vertical-align: middle;\n",
       "    }\n",
       "\n",
       "    .dataframe tbody tr th {\n",
       "        vertical-align: top;\n",
       "    }\n",
       "\n",
       "    .dataframe thead th {\n",
       "        text-align: right;\n",
       "    }\n",
       "</style>\n",
       "<table border=\"1\" class=\"dataframe\">\n",
       "  <thead>\n",
       "    <tr style=\"text-align: right;\">\n",
       "      <th></th>\n",
       "      <th>PP</th>\n",
       "      <th>st</th>\n",
       "      <th>PB</th>\n",
       "      <th>R</th>\n",
       "      <th>RB</th>\n",
       "      <th>bp</th>\n",
       "      <th>sum_selected_bonds</th>\n",
       "      <th>sum_of_central_basepairs</th>\n",
       "      <th>sum_of_all_basepairs</th>\n",
       "      <th>enm_lambda</th>\n",
       "      <th>qha_lambda</th>\n",
       "    </tr>\n",
       "    <tr>\n",
       "      <th>Mode</th>\n",
       "      <th></th>\n",
       "      <th></th>\n",
       "      <th></th>\n",
       "      <th></th>\n",
       "      <th></th>\n",
       "      <th></th>\n",
       "      <th></th>\n",
       "      <th></th>\n",
       "      <th></th>\n",
       "      <th></th>\n",
       "      <th></th>\n",
       "    </tr>\n",
       "  </thead>\n",
       "  <tbody>\n",
       "    <tr>\n",
       "      <th>Mode 1</th>\n",
       "      <td>0.000205</td>\n",
       "      <td>0.000653</td>\n",
       "      <td>0.000143</td>\n",
       "      <td>0.000036</td>\n",
       "      <td>0.000141</td>\n",
       "      <td>0.000207</td>\n",
       "      <td>0.001386</td>\n",
       "      <td>0.000678</td>\n",
       "      <td>0.000697</td>\n",
       "      <td>0.001393</td>\n",
       "      <td>0.001271</td>\n",
       "    </tr>\n",
       "    <tr>\n",
       "      <th>Mode 2</th>\n",
       "      <td>0.000303</td>\n",
       "      <td>0.000845</td>\n",
       "      <td>0.000199</td>\n",
       "      <td>0.000046</td>\n",
       "      <td>0.000184</td>\n",
       "      <td>0.000237</td>\n",
       "      <td>0.001814</td>\n",
       "      <td>0.000842</td>\n",
       "      <td>0.000912</td>\n",
       "      <td>0.001825</td>\n",
       "      <td>0.001577</td>\n",
       "    </tr>\n",
       "    <tr>\n",
       "      <th>Mode 3</th>\n",
       "      <td>0.000538</td>\n",
       "      <td>0.001842</td>\n",
       "      <td>0.000363</td>\n",
       "      <td>0.000084</td>\n",
       "      <td>0.000324</td>\n",
       "      <td>0.000324</td>\n",
       "      <td>0.003476</td>\n",
       "      <td>0.001213</td>\n",
       "      <td>0.001746</td>\n",
       "      <td>0.003492</td>\n",
       "      <td>0.002592</td>\n",
       "    </tr>\n",
       "    <tr>\n",
       "      <th>Mode 4</th>\n",
       "      <td>0.001295</td>\n",
       "      <td>0.001882</td>\n",
       "      <td>0.001146</td>\n",
       "      <td>0.000239</td>\n",
       "      <td>0.000378</td>\n",
       "      <td>0.001175</td>\n",
       "      <td>0.006115</td>\n",
       "      <td>0.002934</td>\n",
       "      <td>0.003134</td>\n",
       "      <td>0.006269</td>\n",
       "      <td>0.003866</td>\n",
       "    </tr>\n",
       "    <tr>\n",
       "      <th>Mode 5</th>\n",
       "      <td>0.001613</td>\n",
       "      <td>0.004672</td>\n",
       "      <td>0.001107</td>\n",
       "      <td>0.000295</td>\n",
       "      <td>0.000876</td>\n",
       "      <td>0.000950</td>\n",
       "      <td>0.009513</td>\n",
       "      <td>0.002404</td>\n",
       "      <td>0.004782</td>\n",
       "      <td>0.009564</td>\n",
       "      <td>0.005336</td>\n",
       "    </tr>\n",
       "  </tbody>\n",
       "</table>\n",
       "</div>"
      ],
      "text/plain": [
       "              PP        st        PB         R        RB        bp  \\\n",
       "Mode                                                                 \n",
       "Mode 1  0.000205  0.000653  0.000143  0.000036  0.000141  0.000207   \n",
       "Mode 2  0.000303  0.000845  0.000199  0.000046  0.000184  0.000237   \n",
       "Mode 3  0.000538  0.001842  0.000363  0.000084  0.000324  0.000324   \n",
       "Mode 4  0.001295  0.001882  0.001146  0.000239  0.000378  0.001175   \n",
       "Mode 5  0.001613  0.004672  0.001107  0.000295  0.000876  0.000950   \n",
       "\n",
       "        sum_selected_bonds  sum_of_central_basepairs  sum_of_all_basepairs  \\\n",
       "Mode                                                                         \n",
       "Mode 1            0.001386                  0.000678              0.000697   \n",
       "Mode 2            0.001814                  0.000842              0.000912   \n",
       "Mode 3            0.003476                  0.001213              0.001746   \n",
       "Mode 4            0.006115                  0.002934              0.003134   \n",
       "Mode 5            0.009513                  0.002404              0.004782   \n",
       "\n",
       "        enm_lambda  qha_lambda  \n",
       "Mode                            \n",
       "Mode 1    0.001393    0.001271  \n",
       "Mode 2    0.001825    0.001577  \n",
       "Mode 3    0.003492    0.002592  \n",
       "Mode 4    0.006269    0.003866  \n",
       "Mode 5    0.009564    0.005336  "
      ]
     },
     "execution_count": 3,
     "metadata": {},
     "output_type": "execute_result"
    }
   ],
   "source": [
    "df_arr.head()"
   ]
  },
  {
   "cell_type": "markdown",
   "metadata": {},
   "source": [
    "### Part 2: Process Data for plot"
   ]
  },
  {
   "cell_type": "code",
   "execution_count": 3,
   "metadata": {},
   "outputs": [],
   "source": [
    "d_data = plot_util.get_d_data_twiststretch_coupling(ml_arr, ml_bdd)"
   ]
  },
  {
   "cell_type": "markdown",
   "metadata": {},
   "source": [
    "### Part 3: Plot"
   ]
  },
  {
   "cell_type": "code",
   "execution_count": 7,
   "metadata": {},
   "outputs": [
    {
     "data": {
      "image/png": "[encoded data removed]",
      "text/plain": [
       "<Figure size 720x288 with 2 Axes>"
      ]
     },
     "metadata": {
      "needs_background": "light"
     },
     "output_type": "display_data"
    }
   ],
   "source": [
    "interaction_list_v1 = ['base-stacking', 'backbone', 'ribose\\npuckering', 'base-pairing']\n",
    "yticks = [0, 15, 30, 45, 60]\n",
    "ylims = (0, 60)\n",
    "\n",
    "hspace = 0\n",
    "wspace = 0.25\n",
    "fig = plt.figure(figsize=(10,4))\n",
    "d_axes = plot_util.get_daxes_twiststretch_coupling(fig, hspace, wspace)\n",
    "xlist = range(4)\n",
    "w = 0.5\n",
    "lbfz = 14\n",
    "tick_lbfz = 12\n",
    "ttfz = 16\n",
    "\n",
    "key1 = 'left'\n",
    "ax = d_axes[key1]\n",
    "yarray = plot_util.d_data_to_yarray_twiststretch(d_data, key1)\n",
    "ax.bar(xlist, yarray, w, color='black')\n",
    "ax.set_xticks(xlist)\n",
    "ax.set_xticklabels(interaction_list_v1)\n",
    "ax.set_yticks(yticks)\n",
    "ax.set_ylim(ylims)\n",
    "ylabel = plot_util.get_ylabel_twiststretch(4, 3)\n",
    "ax.set_ylabel(ylabel, fontsize=lbfz)\n",
    "ax.set_title('dsRNA', fontsize=ttfz)\n",
    "ax.tick_params(axis='y', labelsize=tick_lbfz)\n",
    "ax.tick_params(axis='x', labelsize=tick_lbfz, labelrotation=23)\n",
    "\n",
    "key1 = 'right'\n",
    "ax = d_axes[key1]\n",
    "yarray = plot_util.d_data_to_yarray_twiststretch(d_data, key1)\n",
    "ax.bar(xlist, yarray, w, color='black')\n",
    "ax.set_xticks(xlist)\n",
    "ax.set_xticklabels(interaction_list_v1)\n",
    "ax.set_yticks(yticks)\n",
    "ax.set_ylim(ylims)\n",
    "ylabel = plot_util.get_ylabel_twiststretch(5, 3)\n",
    "ax.set_ylabel(ylabel, fontsize=lbfz)\n",
    "ax.set_title('dsDNA', fontsize=ttfz)\n",
    "ax.tick_params(axis='y', labelsize=tick_lbfz)\n",
    "ax.tick_params(axis='x', labelsize=tick_lbfz, labelrotation=23)\n",
    "\n",
    "plt.savefig('twist_stretch_ml_decompose.svg')\n",
    "plt.show()"
   ]
  },
  {
   "cell_type": "code",
   "execution_count": null,
   "metadata": {},
   "outputs": [],
   "source": []
  }
 ],
 "metadata": {
  "kernelspec": {
   "display_name": "Python 3",
   "language": "python",
   "name": "python3"
  },
  "language_info": {
   "codemirror_mode": {
    "name": "ipython",
    "version": 3
   },
   "file_extension": ".py",
   "mimetype": "text/x-python",
   "name": "python",
   "nbconvert_exporter": "python",
   "pygments_lexer": "ipython3",
   "version": "3.8.5"
  }
 },
 "nbformat": 4,
 "nbformat_minor": 4
}
