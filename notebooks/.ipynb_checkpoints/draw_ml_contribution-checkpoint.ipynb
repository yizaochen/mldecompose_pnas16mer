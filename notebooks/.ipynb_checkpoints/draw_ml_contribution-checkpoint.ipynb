{
 "cells": [
  {
   "cell_type": "code",
   "execution_count": 7,
   "metadata": {},
   "outputs": [],
   "source": [
    "from os import path\n",
    "import matplotlib.pyplot as plt\n",
    "import matplotlib.gridspec as gridspec\n",
    "from mldecompose.molecular_inter import MolecularInteraction\n",
    "rootfolder = '/home/yizaochen/codes/dna_rna/mldecompose_pnas16mer'"
   ]
  },
  {
   "cell_type": "markdown",
   "metadata": {},
   "source": [
    "### Part 1: Read DataFrame"
   ]
  },
  {
   "cell_type": "code",
   "execution_count": 2,
   "metadata": {},
   "outputs": [],
   "source": [
    "ml_arr = MolecularInteraction(rootfolder, 'arna+arna')\n",
    "df_arr = ml_arr.read_df()\n",
    "ml_bdd = MolecularInteraction(rootfolder, 'bdna+bdna')\n",
    "df_bdd = ml_bdd.read_df()"
   ]
  },
  {
   "cell_type": "code",
   "execution_count": 4,
   "metadata": {},
   "outputs": [
    {
     "data": {
      "text/html": [
       "<div>\n",
       "<style scoped>\n",
       "    .dataframe tbody tr th:only-of-type {\n",
       "        vertical-align: middle;\n",
       "    }\n",
       "\n",
       "    .dataframe tbody tr th {\n",
       "        vertical-align: top;\n",
       "    }\n",
       "\n",
       "    .dataframe thead th {\n",
       "        text-align: right;\n",
       "    }\n",
       "</style>\n",
       "<table border=\"1\" class=\"dataframe\">\n",
       "  <thead>\n",
       "    <tr style=\"text-align: right;\">\n",
       "      <th></th>\n",
       "      <th>PP</th>\n",
       "      <th>st</th>\n",
       "      <th>PB</th>\n",
       "      <th>R</th>\n",
       "      <th>RB</th>\n",
       "      <th>bp</th>\n",
       "      <th>sum_selected_bonds</th>\n",
       "      <th>sum_of_central_basepairs</th>\n",
       "      <th>sum_of_all_basepairs</th>\n",
       "      <th>enm_lambda</th>\n",
       "      <th>qha_lambda</th>\n",
       "    </tr>\n",
       "    <tr>\n",
       "      <th>Mode</th>\n",
       "      <th></th>\n",
       "      <th></th>\n",
       "      <th></th>\n",
       "      <th></th>\n",
       "      <th></th>\n",
       "      <th></th>\n",
       "      <th></th>\n",
       "      <th></th>\n",
       "      <th></th>\n",
       "      <th></th>\n",
       "      <th></th>\n",
       "    </tr>\n",
       "  </thead>\n",
       "  <tbody>\n",
       "    <tr>\n",
       "      <th>Mode 1</th>\n",
       "      <td>0.000205</td>\n",
       "      <td>0.000653</td>\n",
       "      <td>0.000143</td>\n",
       "      <td>0.000036</td>\n",
       "      <td>0.000141</td>\n",
       "      <td>0.000207</td>\n",
       "      <td>0.001386</td>\n",
       "      <td>0.000678</td>\n",
       "      <td>0.000697</td>\n",
       "      <td>0.001393</td>\n",
       "      <td>0.001271</td>\n",
       "    </tr>\n",
       "    <tr>\n",
       "      <th>Mode 2</th>\n",
       "      <td>0.000303</td>\n",
       "      <td>0.000845</td>\n",
       "      <td>0.000199</td>\n",
       "      <td>0.000046</td>\n",
       "      <td>0.000184</td>\n",
       "      <td>0.000237</td>\n",
       "      <td>0.001814</td>\n",
       "      <td>0.000842</td>\n",
       "      <td>0.000912</td>\n",
       "      <td>0.001825</td>\n",
       "      <td>0.001577</td>\n",
       "    </tr>\n",
       "    <tr>\n",
       "      <th>Mode 3</th>\n",
       "      <td>0.000538</td>\n",
       "      <td>0.001842</td>\n",
       "      <td>0.000363</td>\n",
       "      <td>0.000084</td>\n",
       "      <td>0.000324</td>\n",
       "      <td>0.000324</td>\n",
       "      <td>0.003476</td>\n",
       "      <td>0.001213</td>\n",
       "      <td>0.001746</td>\n",
       "      <td>0.003492</td>\n",
       "      <td>0.002592</td>\n",
       "    </tr>\n",
       "    <tr>\n",
       "      <th>Mode 4</th>\n",
       "      <td>0.001295</td>\n",
       "      <td>0.001882</td>\n",
       "      <td>0.001146</td>\n",
       "      <td>0.000239</td>\n",
       "      <td>0.000378</td>\n",
       "      <td>0.001175</td>\n",
       "      <td>0.006115</td>\n",
       "      <td>0.002934</td>\n",
       "      <td>0.003134</td>\n",
       "      <td>0.006269</td>\n",
       "      <td>0.003866</td>\n",
       "    </tr>\n",
       "    <tr>\n",
       "      <th>Mode 5</th>\n",
       "      <td>0.001613</td>\n",
       "      <td>0.004672</td>\n",
       "      <td>0.001107</td>\n",
       "      <td>0.000295</td>\n",
       "      <td>0.000876</td>\n",
       "      <td>0.000950</td>\n",
       "      <td>0.009513</td>\n",
       "      <td>0.002404</td>\n",
       "      <td>0.004782</td>\n",
       "      <td>0.009564</td>\n",
       "      <td>0.005336</td>\n",
       "    </tr>\n",
       "  </tbody>\n",
       "</table>\n",
       "</div>"
      ],
      "text/plain": [
       "              PP        st        PB         R        RB        bp  \\\n",
       "Mode                                                                 \n",
       "Mode 1  0.000205  0.000653  0.000143  0.000036  0.000141  0.000207   \n",
       "Mode 2  0.000303  0.000845  0.000199  0.000046  0.000184  0.000237   \n",
       "Mode 3  0.000538  0.001842  0.000363  0.000084  0.000324  0.000324   \n",
       "Mode 4  0.001295  0.001882  0.001146  0.000239  0.000378  0.001175   \n",
       "Mode 5  0.001613  0.004672  0.001107  0.000295  0.000876  0.000950   \n",
       "\n",
       "        sum_selected_bonds  sum_of_central_basepairs  sum_of_all_basepairs  \\\n",
       "Mode                                                                         \n",
       "Mode 1            0.001386                  0.000678              0.000697   \n",
       "Mode 2            0.001814                  0.000842              0.000912   \n",
       "Mode 3            0.003476                  0.001213              0.001746   \n",
       "Mode 4            0.006115                  0.002934              0.003134   \n",
       "Mode 5            0.009513                  0.002404              0.004782   \n",
       "\n",
       "        enm_lambda  qha_lambda  \n",
       "Mode                            \n",
       "Mode 1    0.001393    0.001271  \n",
       "Mode 2    0.001825    0.001577  \n",
       "Mode 3    0.003492    0.002592  \n",
       "Mode 4    0.006269    0.003866  \n",
       "Mode 5    0.009564    0.005336  "
      ]
     },
     "execution_count": 4,
     "metadata": {},
     "output_type": "execute_result"
    }
   ],
   "source": [
    "df_arr.head()"
   ]
  },
  {
   "cell_type": "code",
   "execution_count": 6,
   "metadata": {},
   "outputs": [
    {
     "data": {
      "text/html": [
       "<div>\n",
       "<style scoped>\n",
       "    .dataframe tbody tr th:only-of-type {\n",
       "        vertical-align: middle;\n",
       "    }\n",
       "\n",
       "    .dataframe tbody tr th {\n",
       "        vertical-align: top;\n",
       "    }\n",
       "\n",
       "    .dataframe thead th {\n",
       "        text-align: right;\n",
       "    }\n",
       "</style>\n",
       "<table border=\"1\" class=\"dataframe\">\n",
       "  <thead>\n",
       "    <tr style=\"text-align: right;\">\n",
       "      <th></th>\n",
       "      <th>PP</th>\n",
       "      <th>st</th>\n",
       "      <th>PB</th>\n",
       "      <th>R</th>\n",
       "      <th>RB</th>\n",
       "      <th>bp</th>\n",
       "      <th>sum_selected_bonds</th>\n",
       "      <th>sum_of_central_basepairs</th>\n",
       "      <th>sum_of_all_basepairs</th>\n",
       "      <th>enm_lambda</th>\n",
       "      <th>qha_lambda</th>\n",
       "    </tr>\n",
       "    <tr>\n",
       "      <th>Mode</th>\n",
       "      <th></th>\n",
       "      <th></th>\n",
       "      <th></th>\n",
       "      <th></th>\n",
       "      <th></th>\n",
       "      <th></th>\n",
       "      <th></th>\n",
       "      <th></th>\n",
       "      <th></th>\n",
       "      <th></th>\n",
       "      <th></th>\n",
       "    </tr>\n",
       "  </thead>\n",
       "  <tbody>\n",
       "    <tr>\n",
       "      <th>Mode 1</th>\n",
       "      <td>0.000110</td>\n",
       "      <td>0.000701</td>\n",
       "      <td>0.000041</td>\n",
       "      <td>0.000005</td>\n",
       "      <td>0.000061</td>\n",
       "      <td>0.000167</td>\n",
       "      <td>0.001084</td>\n",
       "      <td>0.000487</td>\n",
       "      <td>0.000543</td>\n",
       "      <td>0.001087</td>\n",
       "      <td>0.001098</td>\n",
       "    </tr>\n",
       "    <tr>\n",
       "      <th>Mode 2</th>\n",
       "      <td>0.000146</td>\n",
       "      <td>0.000809</td>\n",
       "      <td>0.000060</td>\n",
       "      <td>0.000007</td>\n",
       "      <td>0.000063</td>\n",
       "      <td>0.000236</td>\n",
       "      <td>0.001321</td>\n",
       "      <td>0.000592</td>\n",
       "      <td>0.000663</td>\n",
       "      <td>0.001325</td>\n",
       "      <td>0.001394</td>\n",
       "    </tr>\n",
       "    <tr>\n",
       "      <th>Mode 3</th>\n",
       "      <td>0.000541</td>\n",
       "      <td>0.001739</td>\n",
       "      <td>0.000153</td>\n",
       "      <td>0.000029</td>\n",
       "      <td>0.000141</td>\n",
       "      <td>0.000525</td>\n",
       "      <td>0.003129</td>\n",
       "      <td>0.001302</td>\n",
       "      <td>0.001570</td>\n",
       "      <td>0.003139</td>\n",
       "      <td>0.002984</td>\n",
       "    </tr>\n",
       "    <tr>\n",
       "      <th>Mode 4</th>\n",
       "      <td>0.000646</td>\n",
       "      <td>0.002977</td>\n",
       "      <td>0.000235</td>\n",
       "      <td>0.000027</td>\n",
       "      <td>0.000286</td>\n",
       "      <td>0.000993</td>\n",
       "      <td>0.005164</td>\n",
       "      <td>0.001573</td>\n",
       "      <td>0.002589</td>\n",
       "      <td>0.005178</td>\n",
       "      <td>0.005226</td>\n",
       "    </tr>\n",
       "    <tr>\n",
       "      <th>Mode 5</th>\n",
       "      <td>0.002585</td>\n",
       "      <td>0.003171</td>\n",
       "      <td>0.000765</td>\n",
       "      <td>0.000098</td>\n",
       "      <td>0.000517</td>\n",
       "      <td>0.001404</td>\n",
       "      <td>0.008539</td>\n",
       "      <td>0.003224</td>\n",
       "      <td>0.004289</td>\n",
       "      <td>0.008578</td>\n",
       "      <td>0.007883</td>\n",
       "    </tr>\n",
       "  </tbody>\n",
       "</table>\n",
       "</div>"
      ],
      "text/plain": [
       "              PP        st        PB         R        RB        bp  \\\n",
       "Mode                                                                 \n",
       "Mode 1  0.000110  0.000701  0.000041  0.000005  0.000061  0.000167   \n",
       "Mode 2  0.000146  0.000809  0.000060  0.000007  0.000063  0.000236   \n",
       "Mode 3  0.000541  0.001739  0.000153  0.000029  0.000141  0.000525   \n",
       "Mode 4  0.000646  0.002977  0.000235  0.000027  0.000286  0.000993   \n",
       "Mode 5  0.002585  0.003171  0.000765  0.000098  0.000517  0.001404   \n",
       "\n",
       "        sum_selected_bonds  sum_of_central_basepairs  sum_of_all_basepairs  \\\n",
       "Mode                                                                         \n",
       "Mode 1            0.001084                  0.000487              0.000543   \n",
       "Mode 2            0.001321                  0.000592              0.000663   \n",
       "Mode 3            0.003129                  0.001302              0.001570   \n",
       "Mode 4            0.005164                  0.001573              0.002589   \n",
       "Mode 5            0.008539                  0.003224              0.004289   \n",
       "\n",
       "        enm_lambda  qha_lambda  \n",
       "Mode                            \n",
       "Mode 1    0.001087    0.001098  \n",
       "Mode 2    0.001325    0.001394  \n",
       "Mode 3    0.003139    0.002984  \n",
       "Mode 4    0.005178    0.005226  \n",
       "Mode 5    0.008578    0.007883  "
      ]
     },
     "execution_count": 6,
     "metadata": {},
     "output_type": "execute_result"
    }
   ],
   "source": [
    "df_bdd.head()"
   ]
  },
  {
   "cell_type": "markdown",
   "metadata": {},
   "source": [
    "### Part 2: Process Data for plot"
   ]
  },
  {
   "cell_type": "code",
   "execution_count": 6,
   "metadata": {},
   "outputs": [],
   "source": [
    "def get_four_inter_contri_sele_mode(df0, mode_id):\n",
    "    interaction_list = ['base-stacking', 'backbone', 'ribose', 'base-pairing']\n",
    "    d_result = dict()\n",
    "    enm_lambda = df0.loc[f'Mode {mode_id}']['enm_lambda']\n",
    "    for interaction in interaction_list:                                                                       \n",
    "        lambda_contribution = get_contribution_for_interaction(df0, mode_id, interaction)                     \n",
    "        d_result[interaction]= (lambda_contribution/enm_lambda) * 100\n",
    "    return d_result\n",
    "\n",
    "def get_contribution_for_interaction(df1, mode_id, interaction):\n",
    "    interaction_map = {'base-stacking': ['st'], 'backbone': ['PP', 'PB'],                                                                       \n",
    "                       'ribose': ['R', 'RB'], 'base-pairing': ['bp']}   \n",
    "    lambda_contribution = 0.                                                                                       \n",
    "    for category in interaction_map[interaction]:                                                                  \n",
    "        lambda_contribution += df1.loc[f'Mode {mode_id}'][category]                                                \n",
    "    return lambda_contribution   "
   ]
  },
  {
   "cell_type": "code",
   "execution_count": 16,
   "metadata": {},
   "outputs": [
    {
     "data": {
      "text/plain": [
       "{'base-stacking': 46.850823040744345,\n",
       " 'backbone': 25.00602192681986,\n",
       " 'ribose': 12.725438115060674,\n",
       " 'base-pairing': 14.886898851936042}"
      ]
     },
     "execution_count": 16,
     "metadata": {},
     "output_type": "execute_result"
    }
   ],
   "source": [
    "sele_na = 'arna+arna' # arna+arna, bdna+bdna\n",
    "df_sele = d_df[sele_na]\n",
    "mode_id = 1\n",
    "d_result_arr = get_four_inter_contri_sele_mode(df_sele, mode_id)\n",
    "d_result_arr"
   ]
  },
  {
   "cell_type": "code",
   "execution_count": 17,
   "metadata": {},
   "outputs": [
    {
     "data": {
      "text/plain": [
       "{'base-stacking': 64.4907609390453,\n",
       " 'backbone': 13.833346422596987,\n",
       " 'ribose': 6.083981785024173,\n",
       " 'base-pairing': 15.34960188375746}"
      ]
     },
     "execution_count": 17,
     "metadata": {},
     "output_type": "execute_result"
    }
   ],
   "source": [
    "sele_na = 'bdna+bdna' # arna+arna, bdna+bdna\n",
    "df_sele = d_df[sele_na]\n",
    "mode_id = 1\n",
    "d_result_bdd = get_four_inter_contri_sele_mode(df_sele, mode_id)\n",
    "d_result_bdd"
   ]
  },
  {
   "cell_type": "code",
   "execution_count": 40,
   "metadata": {},
   "outputs": [
    {
     "name": "stderr",
     "output_type": "stream",
     "text": [
      "/home/yizaochen/miniconda3/lib/python3.7/site-packages/ipykernel_launcher.py:35: UserWarning: This figure includes Axes that are not compatible with tight_layout, so results might be incorrect.\n"
     ]
    },
    {
     "data": {
      "image/png": "[encoded data removed]",
      "text/plain": [
       "<Figure size 288x288 with 2 Axes>"
      ]
     },
     "metadata": {
      "needs_background": "light"
     },
     "output_type": "display_data"
    }
   ],
   "source": [
    "interaction_list = ['base-stacking', 'backbone', 'ribose', 'base-pairing']\n",
    "interaction_list_v1 = ['base-stacking', 'backbone', 'ribose\\npuckering', 'base-pairing']\n",
    "xlist = range(4)\n",
    "w = 0.4\n",
    "ymin = 0\n",
    "ymax = 70\n",
    "ytick_lbfz = 12\n",
    "xtick_lbfz = 12\n",
    "yticks = [0, 15, 30, 45, 60]\n",
    "\n",
    "fig = plt.figure(figsize=(4,4))\n",
    "gs0 = gridspec.GridSpec(2, 1, hspace=0.4)\n",
    "\n",
    "ax1 = fig.add_subplot(gs0[0,0])\n",
    "ylist = [d_result_arr[interaction] for interaction in interaction_list]\n",
    "ax1.bar(xlist, ylist, w, color='black')\n",
    "ax1.set_xticklabels([])\n",
    "ax1.tick_params(axis='x', which='both',length=0)\n",
    "ax1.set_ylim(ymin, ymax)\n",
    "ax1.set_yticks(yticks)\n",
    "ax1.tick_params(axis='x', labelsize=xtick_lbfz, pad=-2, labelrotation=30)\n",
    "ax1.tick_params(axis='y', labelsize=ytick_lbfz)\n",
    "\n",
    "ax2 = fig.add_subplot(gs0[1,0])\n",
    "ylist = [d_result_bdd[interaction] for interaction in interaction_list]\n",
    "ax2.bar(xlist, ylist, w, color='black')\n",
    "ax2.set_ylim(ymin, ymax)\n",
    "ax2.set_yticks(yticks)\n",
    "ax2.set_xticks([0,1,2,3])\n",
    "ax2.set_xticks(xlist)\n",
    "ax2.set_xticklabels(interaction_list_v1)\n",
    "ax2.tick_params(axis='x', labelsize=xtick_lbfz, pad=2, labelrotation=15)\n",
    "ax2.tick_params(axis='y', labelsize=ytick_lbfz)\n",
    "\n",
    "plt.tight_layout()\n",
    "plt.savefig(\"bend_dsDNA1_dsRNA1.png\", dpi=150)\n",
    "plt.show()"
   ]
  },
  {
   "cell_type": "code",
   "execution_count": 43,
   "metadata": {},
   "outputs": [],
   "source": [
    "def _get_contribution_for_interaction(df0, mode_id, interaction):\n",
    "    interaction_map = {'base-stacking': ['st'], \n",
    "                       'backbone': ['PP', 'PB'], \n",
    "                       'ribose': ['R', 'RB'], \n",
    "                       'base-pairing': ['bp']}\n",
    "    lambda_contribution = 0.\n",
    "    for category in interaction_map[interaction]:\n",
    "        lambda_contribution += df0.loc[f'Mode {mode_id}'][category]\n",
    "    return lambda_contribution\n",
    "\n",
    "def get_percentage_difference_for_two_modes_four_interactions(df, mode_id_1, mode_id_2):\n",
    "    interaction_list = ['base-stacking', 'backbone', 'ribose', 'base-pairing']\n",
    "    enm_lambda_difference = df.loc[f'Mode {mode_id_1}']['enm_lambda'] - df.loc[f'Mode {mode_id_2}']['enm_lambda']\n",
    "    d_result = dict()\n",
    "    for interaction in interaction_list:\n",
    "        differnce = _get_contribution_for_interaction(df, mode_id_1, interaction) - _get_contribution_for_interaction(df, mode_id_2, interaction)\n",
    "        d_result[interaction] = (differnce/enm_lambda_difference) * 100\n",
    "    return d_result"
   ]
  },
  {
   "cell_type": "code",
   "execution_count": 46,
   "metadata": {},
   "outputs": [],
   "source": [
    "# dsDNA\n",
    "mode_id_1 = 5\n",
    "mode_id_2 = 3\n",
    "d_result_bdd = get_percentage_difference_for_two_modes_four_interactions(df_bdd, mode_id_1, mode_id_2)\n",
    "\n",
    "# dsRNA\n",
    "mode_id_1 = 4\n",
    "mode_id_2 = 3\n",
    "d_result_arr = get_percentage_difference_for_two_modes_four_interactions(df_arr, mode_id_1, mode_id_2)"
   ]
  },
  {
   "cell_type": "code",
   "execution_count": 48,
   "metadata": {},
   "outputs": [
    {
     "data": {
      "image/png": "[encoded data removed]",
      "text/plain": [
       "<Figure size 288x288 with 2 Axes>"
      ]
     },
     "metadata": {
      "needs_background": "light"
     },
     "output_type": "display_data"
    }
   ],
   "source": [
    "interaction_list = ['base-stacking', 'backbone', 'ribose', 'base-pairing']\n",
    "interaction_list_v1 = ['base-stacking', 'backbone', 'ribose\\npuckering', 'base-pairing']\n",
    "xlist = range(4)\n",
    "w = 0.4\n",
    "ymin = 0\n",
    "ymax = 70\n",
    "ytick_lbfz = 12\n",
    "xtick_lbfz = 12\n",
    "yticks = [0, 15, 30, 45, 60]\n",
    "\n",
    "fig = plt.figure(figsize=(4,4))\n",
    "gs0 = gridspec.GridSpec(2, 1, hspace=0.4)\n",
    "\n",
    "ax1 = fig.add_subplot(gs0[0,0])\n",
    "ylist = [d_result_arr[interaction] for interaction in interaction_list]\n",
    "ax1.bar(xlist, ylist, w, color='black')\n",
    "ax1.set_xticklabels([])\n",
    "ax1.tick_params(axis='x', which='both',length=0)\n",
    "ax1.set_ylim(ymin, ymax)\n",
    "ax1.set_yticks(yticks)\n",
    "ax1.tick_params(axis='x', labelsize=xtick_lbfz, pad=-2, labelrotation=30)\n",
    "ax1.tick_params(axis='y', labelsize=ytick_lbfz)\n",
    "\n",
    "ax2 = fig.add_subplot(gs0[1,0])\n",
    "ylist = [d_result_bdd[interaction] for interaction in interaction_list]\n",
    "ax2.bar(xlist, ylist, w, color='black')\n",
    "ax2.set_ylim(ymin, ymax)\n",
    "ax2.set_yticks(yticks)\n",
    "ax2.set_xticks([0,1,2,3])\n",
    "ax2.set_xticks(xlist)\n",
    "ax2.set_xticklabels(interaction_list_v1)\n",
    "ax2.tick_params(axis='x', labelsize=xtick_lbfz, pad=2, labelrotation=15)\n",
    "ax2.tick_params(axis='y', labelsize=ytick_lbfz)\n",
    "\n",
    "#plt.tight_layout()\n",
    "plt.savefig(\"st_dsDNA_dsRNA.svg\")\n",
    "plt.show()"
   ]
  },
  {
   "cell_type": "markdown",
   "metadata": {},
   "source": [
    "### Reload Function"
   ]
  },
  {
   "cell_type": "code",
   "execution_count": 19,
   "metadata": {},
   "outputs": [
    {
     "data": {
      "text/plain": [
       "<module 'fig6' from '/home/yizaochen/PycharmProjects/na_paper1_2019/ipynbs/draw_zone/figure6/fig6.py'>"
      ]
     },
     "execution_count": 19,
     "metadata": {},
     "output_type": "execute_result"
    }
   ],
   "source": [
    "from imp import reload\n",
    "reload(fig6)"
   ]
  },
  {
   "cell_type": "code",
   "execution_count": null,
   "metadata": {},
   "outputs": [],
   "source": []
  }
 ],
 "metadata": {
  "kernelspec": {
   "display_name": "Python 3",
   "language": "python",
   "name": "python3"
  },
  "language_info": {
   "codemirror_mode": {
    "name": "ipython",
    "version": 3
   },
   "file_extension": ".py",
   "mimetype": "text/x-python",
   "name": "python",
   "nbconvert_exporter": "python",
   "pygments_lexer": "ipython3",
   "version": "3.8.5"
  }
 },
 "nbformat": 4,
 "nbformat_minor": 4
}
